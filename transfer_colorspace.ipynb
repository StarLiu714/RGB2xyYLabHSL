{
  "nbformat": 4,
  "nbformat_minor": 0,
  "metadata": {
    "colab": {
      "provenance": []
    },
    "kernelspec": {
      "name": "python3",
      "display_name": "Python 3"
    },
    "language_info": {
      "name": "python"
    }
  },
  "cells": [
    {
      "cell_type": "code",
      "execution_count": 1,
      "metadata": {
        "id": "UPweVv05fxxN"
      },
      "outputs": [],
      "source": [
        "from RGB2xyYLabHSL import compute_colorspaces_from_csv\n",
        "\n",
        "csv_path = \"PVA_dye_2.csv\"\n",
        "colorspaces = \"all\" # or we can cet 'HSL', 'Lab' or 'xyY'\n",
        "compute_colorspaces_from_csv(csv_path, csv_path[:-4]+\"_\"+colorspaces+\".csv\", colorspaces=\"all\")"
      ]
    },
    {
      "cell_type": "code",
      "source": [
        "from RGB2xyYLabHSL import compute_colorspaces_from_csv\n",
        "csv_paths = [\"PDMS_dye.csv\", \"PDMS_Dye_2.csv\", \"PDMS_Dye_3.csv\", \"PVA_dye.csv\", \"PVA_dye_2.csv\"]\n",
        "colorspaces = \"all\" # or we can cet 'HSL', 'Lab' or 'xyY'\n",
        "for csv_path in csv_paths:\n",
        "    compute_colorspaces_from_csv(csv_path, csv_path[:-4]+\"_\"+colorspaces+\".csv\", colorspaces=\"all\")"
      ],
      "metadata": {
        "id": "BxZe6gYdh1a0"
      },
      "execution_count": 1,
      "outputs": []
    }
  ]
}